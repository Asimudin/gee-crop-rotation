# ==============================================================================
#                 MULTI-SEASON CROP ROTATION ANALYSIS (FINAL WORKING VERSION)
# ==============================================================================
#
# This version SOLVES the "Computed value is too large" error by drastically
# reducing the size of the Area of Interest (AOI). This is the standard and
# necessary approach for this kind of computational limit in GEE.
#
# ==============================================================================




# ==============================================================================
# 2. PROJECT CONFIGURATION (WITH REDUCED AOI)
# ==============================================================================
print("\nStep 2: Configuring project parameters with a smaller AOI...")

# --- THE CRITICAL FIX: Using a much smaller AOI to ensure the computation completes ---
AOI = ee.Geometry.Rectangle([-93.75, 41.75, -93.5, 42.0])

YEARS = [2020, 2021, 2022]
BASE_CLASSES = {
    'Corn':       {'value': 0, 'color': '#FFD700'},
    'Soybeans':   {'value': 1, 'color': '#228B22'},
    'Other':      {'value': 2, 'color': '#A9A9A9'}
}
CLASS_PROPERTY = 'landcover'
BANDS = ['B2', 'B3', 'B4', 'B5', 'B6', 'B7', 'B8']
NUMBER_OF_CLUSTERS = 5 # Reduced slightly for a smaller area
SAMPLES_FOR_KMEANS = 5000


# ==============================================================================
# 3. ANNUAL CLASSIFICATION
# ==============================================================================
print("\nStep 3: Performing annual supervised classification...")
# Ground truth points updated to be within the new, smaller AOI
ground_truth = ee.FeatureCollection([
    ee.Feature(ee.Geometry.Polygon([[[-93.7, 41.95],[-93.7, 41.92],[-93.67, 41.92],[-93.67, 41.95]]]), {'landcover': 0}),
    ee.Feature(ee.Geometry.Polygon([[[-93.6, 41.85],[-93.6, 41.82],[-93.57, 41.82],[-93.57, 41.85]]]), {'landcover': 1}),
    ee.Feature(ee.Geometry.Polygon([[[-93.7, 41.78],[-93.7, 41.76],[-93.68, 41.76],[-93.68, 41.78]]]), {'landcover': 2})
])

def mask_s2_clouds(image):
    qa = image.select('QA60')
    mask = qa.bitwiseAnd(1 << 10).eq(0).And(qa.bitwiseAnd(1 << 11).eq(0))
    return image.updateMask(mask).divide(10000)

base_year_image = (ee.ImageCollection('COPERNICUS/S2_SR_HARMONIZED').filterBounds(AOI)
                    .filterDate(f'{YEARS[1]}-05-01', f'{YEARS[1]}-09-30')
                    .map(mask_s2_clouds).median().select(BANDS))
training_data = base_year_image.sampleRegions(collection=ground_truth, properties=[CLASS_PROPERTY], scale=10)
base_classifier = ee.Classifier.smileRandomForest(30).train(training_data, CLASS_PROPERTY, BANDS)

annual_classification_maps = []
for year in YEARS:
    print(f"   - Classifying year {year}...")
    yearly_image = (ee.ImageCollection('COPERNICUS/S2_SR_HARMONIZED').filterBounds(AOI)
                    .filterDate(f'{year}-05-01', f'{year}-09-30')
                    .map(mask_s2_clouds).median().select(BANDS))
    classified_map = yearly_image.classify(base_classifier).rename(f'classification_{year}')
    annual_classification_maps.append(classified_map)


# ==============================================================================
# 4 & 5. STACK CREATION AND K-MEANS CLUSTERING
# ==============================================================================
print("\nStep 4 & 5: Creating rotation stack and training K-means clusterer...")
rotation_stack = ee.ImageCollection.fromImages(annual_classification_maps).toBands()
training_points_for_kmeans = rotation_stack.sample(region=AOI, scale=30, numPixels=SAMPLES_FOR_KMEANS)
clusterer = ee.Clusterer.wekaKMeans(NUMBER_OF_CLUSTERS, seed=0).train(training_points_for_kmeans)
rotation_patterns = rotation_stack.cluster(clusterer)


# ==============================================================================
# 6. CLUSTER INTERPRETATION (VIA DRIVE EXPORT)
# ==============================================================================
print("\nStep 6: Interpreting clusters via asynchronous export to Google Drive...")
combined_for_sampling = rotation_stack.addBands(rotation_patterns)
interpretation_sample_fc = combined_for_sampling.sample(region=AOI, scale=30, numPixels=10000, tileScale=4)

export_filename = 'rotation_interpretation_sample_final'
task = ee.batch.Export.table.toDrive(
    collection=interpretation_sample_fc,
    description='ExportFinalRotationSample',
    folder='GEE_Exports',
    fileNamePrefix=export_filename,
    fileFormat='CSV'
)
task.start()

print(f"   - Export task '{task.id}' started. This may take a few minutes...")
while task.active():
  print('   - Processing... (Task status: {})'.format(task.status()['state']))
  time.sleep(30)

task_status = task.status()
if task_status['state'] != 'COMPLETED':
    raise Exception(f"Export task failed. Final state: {task_status['state']}. Error: {task_status.get('error_message', 'No error message.')}")
print("   - Export task completed successfully.")

csv_path = f'/content/drive/My Drive/GEE_Exports/{export_filename}.csv'
df = pd.read_csv(csv_path).drop(columns=['.geo', 'system:index'], errors='ignore')

print("   - Analyzing sampled points to define cluster labels...")
crop_names = list(BASE_CLASSES.keys())
cluster_labels = {}
band_names_in_order = sorted([col for col in df.columns if col.startswith('classification_')])

for cluster_id, group in df.groupby('cluster'):
    rotation_sequence = [int(group[band].mode()[0]) for band in band_names_in_order]
    rotation_names = [crop_names[i] for i in rotation_sequence]
    label = f"Cluster {int(cluster_id)}: " + " -> ".join(rotation_names)
    cluster_labels[int(cluster_id)] = label
    print(f"   - {label}")


# ==============================================================================
# 7. VISUALIZATION (WITH CORRECTED LEGEND)
# ==============================================================================
print("\nStep 7: Generating and displaying the final rotation map...")
Map = geemap.Map()
Map.centerObject(AOI, 12) # Zoom in more for the smaller AOI

# Define the color palette. This must match the number of clusters.
cluster_palette = ['#e41a1c', '#377eb8', '#4daf4a', '#984ea3', '#ff7f00']
cluster_vis_params = {'min': 0, 'max': NUMBER_OF_CLUSTERS - 1, 'palette': cluster_palette}

# Add the final map layer. This is correct.
Map.addLayer(rotation_patterns, cluster_vis_params, 'Discovered Rotation Patterns')


# --- THE CRITICAL FIX IS HERE ---
# Instead of using the 'legend_dict' shortcut, we will explicitly provide
# the legend keys (the labels we generated) and the colors.

# Get the human-readable labels we created in Step 6
legend_keys = list(cluster_labels.values())

# Get the list of colors. It must have the same number of items as the keys.
legend_colors = cluster_palette

# Call add_legend with the explicit 'keys' and 'colors' arguments.
Map.add_legend(
    title="Crop Rotation Patterns",
    keys=legend_keys,
    colors=legend_colors
)

# Display the final map with the correct legend
display(Map)
print("\n\n==================== PROJECT COMPLETE ====================")
